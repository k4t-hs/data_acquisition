{
 "cells": [
  {
   "cell_type": "code",
   "execution_count": null,
   "id": "52d864c4-6544-4f5d-a1f7-2a58cb95ed35",
   "metadata": {},
   "outputs": [],
   "source": [
    "import os, sys\n",
    "import pandas as pd\n",
    "import numpy as np\n",
    "import matplotlib.pyplot as plt"
   ]
  },
  {
   "cell_type": "code",
   "execution_count": null,
   "id": "af9c75c2-4599-46ec-bed2-95bd50586adf",
   "metadata": {},
   "outputs": [],
   "source": [
    "path_eval = os.path.join(\"D:\" + os.sep, \"Dokumente\", \"Studium\", \"Master Robotik und Künstliche Intelligenz in der Produktion\", \"Semester 1\", \"Projektarbeiten\", \"Projekt AprilTags\", \"Evaluation\")\n",
    "path_excel = os.path.join(path_eval, \"Excel\")\n",
    "path_plots = os.path.join(path_eval, \"Plots\")\n",
    "filenames = {\"apriltag mot 50mm\" : \"data_apriltag.xlsx\",\n",
    "             \"apriltag mot 150mm\": \"data_apriltag_150mm.xlsx\",\n",
    "             \"apriltag mog3\"     : \"data_apriltag_50mm_mog3.xlsx\",\n",
    "             \"apriltag mog5\"     : \"data_apriltag_50mm_mog5.xlsx\",\n",
    "             \"aruco mot 50mm\"    : \"data_aruco.xlsx\",\n",
    "             \"aruco mot 150mm\"   : \"data_aruco_150mm.xlsx\",\n",
    "             \"aruco mog3\"        : \"data_aruco_50mm_mog3.xlsx\",\n",
    "             \"aruco mog5\"        : \"data_aruco_50mm_mog3.xlsx\"}"
   ]
  },
  {
   "cell_type": "code",
   "execution_count": null,
   "id": "fc6ad6f7-7c2e-491d-b8c0-5155381b7022",
   "metadata": {},
   "outputs": [],
   "source": [
    "dataframes = dict()\n",
    "for key in filenames:\n",
    "    print(f\"Reading \\'{filenames[key]}\\'\")\n",
    "    dataframes[key] = pd.read_excel(os.path.join(path_excel, filenames[key]))\n",
    "    print(\"Done.\")"
   ]
  },
  {
   "cell_type": "code",
   "execution_count": null,
   "id": "2e36464f-5460-4838-88b7-d64adfd68e9b",
   "metadata": {},
   "outputs": [],
   "source": [
    "\"\"\"\n",
    "dataframes[\"aruco mog5\"]\n",
    "\"\"\""
   ]
  },
  {
   "cell_type": "code",
   "execution_count": null,
   "id": "cc9af116-7e85-4b7b-bea6-592f05f8bb8e",
   "metadata": {},
   "outputs": [],
   "source": [
    "mses = dict()\n",
    "for bib in [\"apriltag\", \"aruco\"]:\n",
    "    \n",
    "    dict_mthds = dict()\n",
    "    dict_scenario = dict()\n",
    "    \n",
    "    for impr_mthd in [\"mot 50mm\", \"mot 150mm\"]:\n",
    "        \n",
    "        df_complete = dataframes[f\"{bib} {impr_mthd}\"]\n",
    "        idx_gt = np.where(np.array(df_complete['frame index'])<0)\n",
    "        idx_gt = idx_gt[0].tolist() + [-1]\n",
    "        \n",
    "        for i, idx_scenario in enumerate(idx_gt[:-1]):\n",
    "            dataframe = df_complete.iloc[idx_scenario+1:idx_gt[i+1]]\n",
    "            #print(f\"start {idx_scenario+1} end: {idx_gt[i+1]}\")\n",
    "            #print(dataframe[[\"trans x original\", \"trans y original\", \"trans z original\"]].head(3))\n",
    "            scenario = str(df_complete.iloc[idx_scenario][[\"trans x original\", \"trans y original\", \"trans z original\", \"rot x deg original\", \"rot y deg original\", \"rot z deg original\"]].tolist())            \n",
    "\n",
    "            for mot_var in [\"original\", \"mot3\", \"mot5\", \"mot10\"]:\n",
    "\n",
    "                outlier_iter = [mot_var] if mot_var == \"original\" else [\"z2\", \"z3\", \"iqr\"]\n",
    "\n",
    "                for outlier_detector in outlier_iter:\n",
    "\n",
    "                    columns = [\"time\", \"frame index\"]\n",
    "                    col_key = mot_var+outlier_detector if outlier_detector != \"original\" else mot_var\n",
    "\n",
    "                    for ax in [\"x\", \"y\", \"z\"]:\n",
    "\n",
    "                        columns.append(f\"trans {ax} {col_key}\")\n",
    "                        columns.append(f\"rot {ax} deg {col_key}\")  \n",
    "                    print(f\"{scenario}: {dataframe.iloc[:1, 3:6]}\")\n",
    "                    dict_mthds[col_key] = dataframe[columns].dropna()\n",
    "            \n",
    "            print(f\"{impr_mthd.split()[-1]} {scenario}\")\n",
    "            dict_scenario[f\"{impr_mthd.split()[-1]} {scenario}\"] = dict_mthds\n",
    "                \n",
    "        #for mog_var in [\"mog3\", \"mog5\"]:\n",
    "    #print(len(columns))   \n",
    "            #print(dataframes[f\"{bib} {impr_mthd}\"][[\"trans x original\", \"trans y original\"]])#, f\"rot y {impr_mthd.replace(' 50mm', '3').replace(' 150mm', '3')}\"])\n",
    "    \n",
    "    #for impr_mthd in [\"mog3\", \"mog5\"]:\n",
    "        # do something\n",
    "        \n",
    "    \n",
    "    mses[bib] = dict_scenario                               "
   ]
  },
  {
   "cell_type": "code",
   "execution_count": null,
   "id": "208ddb18-4ec2-42dc-8d0f-bc6c9b8bde5a",
   "metadata": {},
   "outputs": [],
   "source": [
    "#print(mses[\"apriltag\"][\"50mm [0.0, 0.0, 1.0, -45.0, 0.0, 0.0]\"][\"original\"][[\"trans x original\", \"trans y original\", \"trans z original\"]].head(3))#.keys())#[\"[0.0, 0.0, 1.0, -45.0, 0.0, 0.0]\"][\"mot5z3\"])\n",
    "#print(\"--------------------------------------------------------------------------------------------------------------------------\")\n",
    "#print(mses[\"apriltag\"][\"50mm [0.0, 0.0, 1.0, -45.0, 0.0, 0.0]\"][\"original\"][[\"trans x original\", \"trans y original\", \"trans z original\"]].head(3))#.keys())#[\"[0.0, 0.0, 1.0, -45.0, 0.0, 0.0]\"][\"mot5z3\"])\n",
    "#print(\"--------------------------------------------------------------------------------------------------------------------------\")\n",
    "print(mses[\"apriltag\"][\"50mm [0.0, 0.0, 0.3, 0.0, 10.0, 0.0]\"])#[\"original\"][[\"trans x original\", \"trans y original\", \"trans z original\"]].head(3))#.keys())#[\"[0.0, 0.0, 1.0, -45.0, 0.0, 0.0]\"][\"mot5z3\"])"
   ]
  },
  {
   "cell_type": "code",
   "execution_count": null,
   "id": "800142ae-d960-4bcc-b4ae-4b6f977feaa5",
   "metadata": {},
   "outputs": [],
   "source": []
  }
 ],
 "metadata": {
  "kernelspec": {
   "display_name": "ki1_venv",
   "language": "python",
   "name": "ki1_venv"
  },
  "language_info": {
   "codemirror_mode": {
    "name": "ipython",
    "version": 3
   },
   "file_extension": ".py",
   "mimetype": "text/x-python",
   "name": "python",
   "nbconvert_exporter": "python",
   "pygments_lexer": "ipython3",
   "version": "3.9.9"
  }
 },
 "nbformat": 4,
 "nbformat_minor": 5
}
