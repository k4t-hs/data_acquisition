{
 "cells": [
  {
   "cell_type": "code",
   "execution_count": 5,
   "id": "5378d329-a70c-4b71-ad95-d170637df5b4",
   "metadata": {},
   "outputs": [],
   "source": [
    "import pandas as pd\n",
    "import random\n",
    "# import xlsxwriter"
   ]
  },
  {
   "cell_type": "code",
   "execution_count": 23,
   "id": "b7876119-095a-4594-9284-6fa0e7709603",
   "metadata": {},
   "outputs": [
    {
     "name": "stdout",
     "output_type": "stream",
     "text": [
      "[[0.0, 0.0, 30.0], [nan, nan, nan]]\n",
      "['trans x original', 'trans y original', 'trans z original']\n"
     ]
    },
    {
     "data": {
      "text/html": [
       "<div>\n",
       "<style scoped>\n",
       "    .dataframe tbody tr th:only-of-type {\n",
       "        vertical-align: middle;\n",
       "    }\n",
       "\n",
       "    .dataframe tbody tr th {\n",
       "        vertical-align: top;\n",
       "    }\n",
       "\n",
       "    .dataframe thead th {\n",
       "        text-align: right;\n",
       "    }\n",
       "</style>\n",
       "<table border=\"1\" class=\"dataframe\">\n",
       "  <thead>\n",
       "    <tr style=\"text-align: right;\">\n",
       "      <th></th>\n",
       "      <th>trans x original</th>\n",
       "      <th>trans y original</th>\n",
       "      <th>trans z original</th>\n",
       "    </tr>\n",
       "  </thead>\n",
       "  <tbody>\n",
       "    <tr>\n",
       "      <th>0</th>\n",
       "      <td>0.0</td>\n",
       "      <td>0.0</td>\n",
       "      <td>30.0</td>\n",
       "    </tr>\n",
       "    <tr>\n",
       "      <th>1</th>\n",
       "      <td>NaN</td>\n",
       "      <td>NaN</td>\n",
       "      <td>NaN</td>\n",
       "    </tr>\n",
       "  </tbody>\n",
       "</table>\n",
       "</div>"
      ],
      "text/plain": [
       "   trans x original  trans y original  trans z original\n",
       "0               0.0               0.0              30.0\n",
       "1               NaN               NaN               NaN"
      ]
     },
     "execution_count": 23,
     "metadata": {},
     "output_type": "execute_result"
    }
   ],
   "source": [
    "filename = '/home/kathrin/dev_ws/csv_files/test/apriltag_data_v2.xlsx'\n",
    "\n",
    "load_excel = False\n",
    "create_excel = False\n",
    "\n",
    "original_columns = ['time', 'frame index',\n",
    "                    'trans x original', 'trans y original', 'trans z original',\n",
    "                    'rot w original', 'rot x original', 'rot y original', 'rot z original']\n",
    "mot_3_zscore_3_columns = ['trans x mot3z3', 'trans y mot3z3', 'trans z mot3z3', \n",
    "                          'rot x deg mot3z3', 'rot y deg mot3z3', 'rot z deg mot3z3']\n",
    "\n",
    "if load_excel:\n",
    "    try:\n",
    "        df = pd.read_excel('evaluation.xlsx', sheet_name='AprilTag')\n",
    "        df = df.iloc[: , 1:]\n",
    "    except ValueError:\n",
    "        values = [0, 0, 0, 0, 30, 0, 0, 0, 0]\n",
    "        dictionary = dict(zip(original_columns, values))\n",
    "        df = pd.DataFrame(data=dictionary, index=[0])\n",
    "else:\n",
    "    values = [0, 0, 0, 0, 30, 0, 0, 0, 0]\n",
    "    dictionary = dict(zip(original_columns, values))\n",
    "    df = pd.DataFrame(data=dictionary, index=[0])\n",
    "\n",
    "all_series = list()\n",
    "\n",
    "for i in range(100):\n",
    "    values = [0, i+1, 0, 0, 30, 0, random.normalvariate(0, 4), random.normalvariate(0, 4), random.normalvariate(0.175, 4)] \n",
    "    resulting_series = [pd.Series(data=values, index=original_columns)]\n",
    "    \n",
    "    if not (i + 1)%3:\n",
    "        values = [0, 0, 30, random.normalvariate(0, 4), random.normalvariate(0, 4), random.normalvariate(10, 4)] \n",
    "        resulting_series.append(pd.Series(data=values, index=mot_3_zscore_3_columns))\n",
    "        \n",
    "    all_series.append(pd.concat(resulting_series))\n",
    "\n",
    "\n",
    "df = pd.concat([df, pd.concat(all_series, axis=1).T], ignore_index=True)\n",
    "\n",
    "if create_excel:\n",
    "    df.to_excel(filename, sheet_name='AprilTag')\n",
    "\n",
    "\n",
    "df2 = df.iloc[2, 1:]\n",
    "# df2\n",
    "vals = list()\n",
    "for i in ['original', 'mot3z3']:\n",
    "    vals.append([df2['trans x '+i], df2['trans y '+i], df2['trans z '+i]])\n",
    "# df\n",
    "print(vals)\n",
    "print(original_columns[2:5])\n",
    "df3 = pd.DataFrame(data=vals, columns=original_columns[2:5])\n",
    "df3"
   ]
  },
  {
   "cell_type": "code",
   "execution_count": 6,
   "id": "c277e71b-9e1b-40e5-8bfb-f271ac4db264",
   "metadata": {},
   "outputs": [],
   "source": [
    "from math import pi"
   ]
  },
  {
   "cell_type": "code",
   "execution_count": 7,
   "id": "9e7f8933-971d-4cd5-b0b7-05a4f6290dd6",
   "metadata": {},
   "outputs": [
    {
     "name": "stdout",
     "output_type": "stream",
     "text": [
      "3.141592653589793\n"
     ]
    }
   ],
   "source": [
    "print(pi)"
   ]
  },
  {
   "cell_type": "code",
   "execution_count": 10,
   "id": "f08948f6-fa00-4fbc-b9c6-b14b3caae14a",
   "metadata": {},
   "outputs": [
    {
     "name": "stdout",
     "output_type": "stream",
     "text": [
      "['test', 'test2']\n"
     ]
    }
   ],
   "source": [
    "liste = ['test', 'test2', 'test3']\n",
    "print(liste[:2])"
   ]
  },
  {
   "cell_type": "code",
   "execution_count": 19,
   "id": "adf5e5af-271b-403e-8f1e-2d2b30d4fd49",
   "metadata": {},
   "outputs": [
    {
     "name": "stdout",
     "output_type": "stream",
     "text": [
      "<class 'pandas.core.series.Series'>\n"
     ]
    }
   ],
   "source": [
    "import pandas as pd\n",
    "import random\n",
    "\n",
    "original_columns = ['time', 'frame index',\n",
    "                    'trans x original', 'trans y original', 'trans z original',\n",
    "                    'rot w original', 'rot x original', 'rot y original', 'rot z original',\n",
    "                    'rot x deg', 'rot y deg', 'rot z deg']\n",
    "values = [0, 0, \n",
    "          0, 0, 30, \n",
    "          0, random.normalvariate(0, 3), random.normalvariate(0, 3), random.normalvariate(0.175, 3), \n",
    "          random.normalvariate(0, 3), random.normalvariate(0, 3), random.normalvariate(10, 3)] \n",
    "resulting_series = [pd.Series(data=values, index=original_columns)]\n",
    "values = [0, 1, \n",
    "          0, 0, 30, \n",
    "          0, random.normalvariate(0, 3), random.normalvariate(0, 3), random.normalvariate(0.175, 3), \n",
    "          random.normalvariate(0, 3), random.normalvariate(0, 3), random.normalvariate(10, 3)] \n",
    "resulting_series += [pd.Series(data=values, index=original_columns)]\n",
    "values = [0, 2, \n",
    "          0, 0, 30, \n",
    "          0, random.normalvariate(0, 3), random.normalvariate(0, 3), random.normalvariate(0.175, 3), \n",
    "          random.normalvariate(0, 3), random.normalvariate(0, 3), random.normalvariate(10, 3)] \n",
    "resulting_series += [pd.Series(data=values, index=original_columns)]\n",
    "\n",
    "# print(resulting_series[0])\n",
    "\n",
    "df = pd.concat(resulting_series, axis=1).T\n",
    "\n",
    "# print(df)\n",
    "\n",
    "df = pd.concat([df[original_columns[2:5]], df[original_columns[-3:]]], axis=1)\n",
    "# print(df)\n",
    "\n",
    "print(type(df.mean()))\n",
    "\n",
    "\n"
   ]
  },
  {
   "cell_type": "code",
   "execution_count": 1,
   "id": "b07bc2d6-19ad-40b1-a1bf-f76d70de1513",
   "metadata": {},
   "outputs": [
    {
     "name": "stdout",
     "output_type": "stream",
     "text": [
      "[1, 2, 3, 4, 5, 1, 2, 3, 4, 5, 1, 2, 3, 4, 5, 1, 2, 3, 4, 5, 1, 2, 3, 4, 5]\n"
     ]
    }
   ],
   "source": [
    "# filename = '/home/kathrin/dev_ws/csv_files/test/eval_data.xlsx'\n",
    "\n",
    "# df = pd.read_excel(filename, sheet_name='NonExistent')\n",
    "\n",
    "liste = [1, 2, 3, 4, 5]\n",
    "print(liste*5)"
   ]
  },
  {
   "cell_type": "code",
   "execution_count": 11,
   "id": "8960ce30-5606-469e-9698-97c69aa73807",
   "metadata": {},
   "outputs": [],
   "source": [
    "filename = '/home/kathrin/dev_ws/csv_files/test/multiple_sheets.xlsx'\n",
    "\n",
    "df1 = pd.DataFrame({'Data': [11, 12, 13, 14]})\n",
    "df2 = pd.DataFrame({'Data': [21, 22, 23, 24]})\n",
    "df3 = pd.DataFrame({'Data': [31, 32, 33, 34]})\n",
    "\n",
    "with pd.ExcelWriter(filename, engine='openpyxl') as writer:\n",
    "    df1.to_excel(writer, sheet_name='Sheet1')\n",
    "    df2.to_excel(writer, sheet_name='Sheet2')\n",
    "    df3.to_excel(writer, sheet_name='Sheet3')\n",
    "    writer.save()"
   ]
  },
  {
   "cell_type": "code",
   "execution_count": 15,
   "id": "f5336a41-1039-41c6-90fc-cb13525a27c7",
   "metadata": {},
   "outputs": [],
   "source": [
    "df4 = pd.read_excel(filename, sheet_name='Sheet1').loc[1:]\n",
    "with pd.ExcelWriter(filename, engine='openpyxl', mode='a', if_sheet_exists='replace') as writer:  \n",
    "    df4.to_excel(writer, sheet_name='Sheet4')"
   ]
  },
  {
   "cell_type": "code",
   "execution_count": null,
   "id": "c0a8c9cd-d8b2-440a-b252-d38bceefe7e1",
   "metadata": {},
   "outputs": [],
   "source": [
    "import pandas as pd\n",
    "\n",
    "series1 = pd.Series(data=[1, 1, 1, 1], index=['a 1', 'b 1', 'c 1', 'd 1'])\n",
    "series2 = pd.Series(data=[2, 2, 2, 2], index=['a 2', 'b 2', 'c 2', 'd 2'])"
   ]
  }
 ],
 "metadata": {
  "kernelspec": {
   "display_name": "spyder-env",
   "language": "python",
   "name": "spyder-env"
  },
  "language_info": {
   "codemirror_mode": {
    "name": "ipython",
    "version": 3
   },
   "file_extension": ".py",
   "mimetype": "text/x-python",
   "name": "python",
   "nbconvert_exporter": "python",
   "pygments_lexer": "ipython3",
   "version": "3.8.10"
  }
 },
 "nbformat": 4,
 "nbformat_minor": 5
}
